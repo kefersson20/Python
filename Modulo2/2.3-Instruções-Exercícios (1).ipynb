{
  "metadata": {
    "kernelspec": {
      "name": "xpython",
      "display_name": "Python 3.13 (XPython)",
      "language": "python"
    },
    "language_info": {
      "file_extension": ".py",
      "mimetype": "text/x-python",
      "name": "python",
      "version": "3.13.1"
    },
    "colab": {
      "provenance": []
    }
  },
  "nbformat_minor": 4,
  "nbformat": 4,
  "cells": [
    {
      "cell_type": "markdown",
      "source": "# Módulo 2\n\n## 2.3 Instruções e Expressões\n\n### Q1\n\nFaça um programa que armazene o valor de 20 reais de salário por hora de um trabalhador, e o número de 40 horas trabalhadas na semana. Com essas informações, calcule e imprima:\n- Salário semanal bruto\n- Valor descontado por semana INSS (10% do bruto)\n- Valor descontado por semana pelo sindicato (5% do bruto)\n- Salário semanal líquido (Bruto - Descontos)",
      "metadata": {
        "id": "1pCTdOHonv5f"
      }
    },
    {
      "cell_type": "code",
      "source": "# Q1\nsalario_hora = 20\nhoras_semana = 40\n\n# cálculos\nsalario_bruto = salario_hora * horas_semana\ninss = salario_bruto * 0.10\nsindicato = salario_bruto * 0.05\nsalario_liquido = salario_bruto - inss - sindicato\n\n# saída\nprint(\"Salário semanal bruto:\", salario_bruto)\nprint(\"Desconto INSS (10%):\", inss)\nprint(\"Desconto sindicato (5%):\", sindicato)\nprint(\"Salário semanal líquido:\", salario_liquido)\n",
      "metadata": {
        "id": "hVbX0I97nj6M",
        "trusted": true
      },
      "outputs": [
        {
          "name": "stdout",
          "output_type": "stream",
          "text": "Salário semanal bruto: 800\nDesconto INSS (10%): 80.0\nDesconto sindicato (5%): 40.0\nSalário semanal líquido: 680.0\n"
        }
      ],
      "execution_count": 1
    },
    {
      "cell_type": "markdown",
      "source": "### Q2\n\nAltere o programa anterior para a partir dos valores de horas trabalhadas por semana e salário por hora, calcular **em somente duas instruções**:\n- Salário semanal bruto\n- Salário semanal líquido com todos os descontos. Para a segunda instrução, realize todos os cálculos aritméticos em uma expressão composta.\n",
      "metadata": {
        "id": "pIxKX9J2oGZ1"
      }
    },
    {
      "cell_type": "code",
      "source": "# Q2\nsalario_hora = 20\nhoras_semana = 40\n\n# apenas duas instruções\nsalario_bruto = salario_hora * horas_semana\nsalario_liquido = salario_bruto - (salario_bruto * 0.10 + salario_bruto * 0.05)\n\n# saída\nprint(\"Salário semanal bruto:\", salario_bruto)\nprint(\"Salário semanal líquido:\", salario_liquido)\n",
      "metadata": {
        "id": "pAHw9Xf9oGoi",
        "trusted": true
      },
      "outputs": [
        {
          "name": "stdout",
          "output_type": "stream",
          "text": "Salário semanal bruto: 800\nSalário semanal líquido: 680.0\n"
        }
      ],
      "execution_count": 2
    },
    {
      "cell_type": "markdown",
      "source": "### Q3\n\nVocê está desenvolvendo um software de conversão de moeda e precisa calcular o valor equivalente em yuan chinês a partir de uma quantia em real. A taxa de câmbio é de 0.69 BRL (real) para 1 CNY (yuan). Escreva um programa que define em uma variável uma quantia em reais (BRL) e calcula o valor equivalente em yuan (CNY). Imprima o resultado.",
      "metadata": {
        "id": "m8tlHRuWpBOB"
      }
    },
    {
      "cell_type": "code",
      "source": "# Q3\nvalor_reais = 100  # exemplo: 100 reais\ntaxa_cambio = 0.69  # 0.69 BRL = 1 CNY\n\nvalor_yuan = valor_reais / taxa_cambio\n\nprint(valor_reais, \"reais equivalem a\", valor_yuan, \"yuans.\")\n",
      "metadata": {
        "trusted": true
      },
      "outputs": [
        {
          "name": "stdout",
          "output_type": "stream",
          "text": "100 reais equivalem a 144.92753623188406 yuans.\n"
        }
      ],
      "execution_count": 4
    },
    {
      "cell_type": "markdown",
      "source": "### Q4\n\nVocê é um treinador de corrida e deseja calcular a velocidade média que um atleta precisa manter para completar a Maratona Internacional de São Silvestre, que tem uma distância total de 42.195 km. A fórmula para calcular a velocidade média ($v\\_media$) é dada por $v\\_media = \\frac{distancia}{tempo}$ . Escreva um programa em Python para calcular a velocidade média necessária para completar a maratona em 3 horas.\n\n**Calcule e imprima o resultado em metros/segundo**, ou seja, converta a distância de quilômetros para metros ($metro = \\frac{km}{1000}$) e a velocidade de horas para segundos $(segundo = \\frac{hora}{3600})$.",
      "metadata": {
        "id": "-Na3ltDCp74A"
      }
    },
    {
      "cell_type": "code",
      "source": "# Q4\n\n# dados\ndistancia_km = 42.195\ntempo_horas = 3\n\n# conversões\ndistancia_metros = distancia_km * 1000\ntempo_segundos = tempo_horas * 3600\n\n# cálculo da velocidade média\nvelocidade_media = distancia_metros / tempo_segundos\n\n# saída\nprint(\"Velocidade média necessária:\", velocidade_media, \"m/s\")\n",
      "metadata": {
        "trusted": true
      },
      "outputs": [
        {
          "name": "stdout",
          "output_type": "stream",
          "text": "Velocidade média necessária: 3.9069444444444446 m/s\n"
        }
      ],
      "execution_count": 6
    },
    {
      "cell_type": "code",
      "source": "",
      "metadata": {
        "trusted": true
      },
      "outputs": [],
      "execution_count": null
    }
  ]
}